{
 "cells": [
  {
   "cell_type": "code",
   "execution_count": null,
   "id": "dimensional-stone",
   "metadata": {},
   "outputs": [],
   "source": [
    "# Import Splinter and BeautifulSoup\n",
    "from splinter import Browser\n",
    "from bs4 import BeautifulSoup as soup"
   ]
  },
  {
   "cell_type": "code",
   "execution_count": null,
   "id": "assisted-discharge",
   "metadata": {},
   "outputs": [],
   "source": [
    "#path to chromedriver\n",
    "!which chromedriver"
   ]
  },
  {
   "cell_type": "code",
   "execution_count": null,
   "id": "continuing-course",
   "metadata": {},
   "outputs": [],
   "source": [
    " #Mac users\n",
    "executable_path = {'executable_path': '/usr/local/bin/chromedriver'}\n",
    "browser = Browser('chrome', **executable_path, headless=False)"
   ]
  },
  {
   "cell_type": "code",
   "execution_count": null,
   "id": "double-radio",
   "metadata": {},
   "outputs": [],
   "source": [
    "#Visit the mars nasa news site\n",
    "url = 'https://mars.nasa.gov/news/'\n",
    "browser.visit(url)\n",
    "#Optional delay for loading the page\n",
    "browser.is_element_present_by_css(\"ul.item_list li.slide\", wait_time=1)"
   ]
  },
  {
   "cell_type": "code",
   "execution_count": null,
   "id": "radio-account",
   "metadata": {},
   "outputs": [],
   "source": [
    "# set up HTML parser\n",
    "news=\"\"\n",
    "html = browser.html\n",
    "news_soup= soup(html, 'html.parser')\n",
    "slide_elem = news_soup.select_one('ul.item_list li.slide')"
   ]
  },
  {
   "cell_type": "code",
   "execution_count": null,
   "id": "hawaiian-freeze",
   "metadata": {},
   "outputs": [],
   "source": [
    "#Assign the title and summery text to a veriable\n",
    "slide_elem.find(\"div\", class_='content_title')"
   ]
  },
  {
   "cell_type": "code",
   "execution_count": null,
   "id": "neural-fiber",
   "metadata": {},
   "outputs": [],
   "source": [
    "#Use the parent element to find the first 'a' tag snd save it as\n",
    "#news_title\n",
    "news_title = slide_elem.find(\"div\", class_='content_title')\\\n",
    ".get_text()\n",
    "news_title"
   ]
  },
  {
   "cell_type": "code",
   "execution_count": null,
   "id": "surrounded-avatar",
   "metadata": {},
   "outputs": [],
   "source": [
    "# Use the parent element to find the paragraph text\n",
    "new_p = slide_elem.find('div', class_=\"article_teaser_body\")\\\n",
    ".get_text()\n",
    "new_p"
   ]
  },
  {
   "cell_type": "markdown",
   "id": "incorporated-concert",
   "metadata": {},
   "source": [
    "### Featured Images"
   ]
  },
  {
   "cell_type": "code",
   "execution_count": null,
   "id": "unlimited-swift",
   "metadata": {},
   "outputs": [],
   "source": [
    "# Visit URL\n",
    "url = 'https://data-class-jpl-space.s3.amazonaws.com/JPL_Space/index.html'\n",
    "browser.visit(url)"
   ]
  },
  {
   "cell_type": "markdown",
   "id": "apart-insurance",
   "metadata": {},
   "source": []
  }
 ],
 "metadata": {
  "kernelspec": {
   "display_name": "Python 3",
   "language": "python",
   "name": "python3"
  },
  "language_info": {
   "codemirror_mode": {
    "name": "ipython",
    "version": 3
   },
   "file_extension": ".py",
   "mimetype": "text/x-python",
   "name": "python",
   "nbconvert_exporter": "python",
   "pygments_lexer": "ipython3",
   "version": "3.8.3"
  }
 },
 "nbformat": 4,
 "nbformat_minor": 5
}
